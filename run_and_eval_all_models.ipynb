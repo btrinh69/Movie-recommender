{
 "cells": [
  {
   "cell_type": "code",
   "execution_count": 1,
   "metadata": {},
   "outputs": [],
   "source": [
    "# Neccessity\n",
    "import numpy as np\n",
    "import pandas as pd\n",
    "import math\n",
    "import random\n",
    "from sklearn.model_selection import train_test_split\n",
    "# from sklearn.metrics.pairwise import cosine_similarity\n",
    "\n",
    "# Evaluator\n",
    "from evaluate_component.evaluate import ModelEvaluator\n",
    "\n",
    "np.set_printoptions(precision=3)\n",
    "\n",
    "np.set_printoptions(suppress=True)"
   ]
  },
  {
   "cell_type": "markdown",
   "metadata": {},
   "source": [
    "# Initialize"
   ]
  },
  {
   "cell_type": "code",
   "execution_count": 2,
   "metadata": {},
   "outputs": [],
   "source": [
    "movies = pd.read_csv('ml-latest-small/movies.csv').set_index('movieId')\n",
    "ratings = pd.read_csv('ml-latest-small/ratings.csv')"
   ]
  },
  {
   "cell_type": "markdown",
   "metadata": {},
   "source": [
    "## Split Data"
   ]
  },
  {
   "cell_type": "code",
   "execution_count": 3,
   "metadata": {},
   "outputs": [
    {
     "name": "stdout",
     "output_type": "stream",
     "text": [
      "Number of ratings on the Train set: 80668\n",
      "Number of ratings on the Test set: 20168\n"
     ]
    }
   ],
   "source": [
    "ratings_train_df, ratings_test_df = train_test_split(ratings,\n",
    "                                   stratify=ratings['userId'], \n",
    "                                   test_size=0.20,\n",
    "                                   random_state=42)\n",
    "\n",
    "print('Number of ratings on the Train set: %d' % len(ratings_train_df))\n",
    "print('Number of ratings on the Test set: %d' % len(ratings_test_df))"
   ]
  },
  {
   "cell_type": "code",
   "execution_count": 4,
   "metadata": {},
   "outputs": [],
   "source": [
    "#Indexing by userId to speed up the searches during evaluation\n",
    "ratings_full_indexed_df = ratings.set_index('userId')\n",
    "ratings_train_indexed_df = ratings_train_df.set_index('userId')\n",
    "ratings_test_indexed_df = ratings_test_df.set_index('userId')"
   ]
  },
  {
   "cell_type": "markdown",
   "metadata": {},
   "source": [
    "## Evaluator"
   ]
  },
  {
   "cell_type": "code",
   "execution_count": 5,
   "metadata": {},
   "outputs": [],
   "source": [
    "model_evaluator = ModelEvaluator(ratings_train_indexed_df, ratings_test_indexed_df, movies) "
   ]
  },
  {
   "cell_type": "markdown",
   "metadata": {},
   "source": [
    "# Popularity Model"
   ]
  },
  {
   "cell_type": "code",
   "execution_count": 6,
   "metadata": {},
   "outputs": [],
   "source": [
    "from models.popularity import PopularityRecommender"
   ]
  },
  {
   "cell_type": "code",
   "execution_count": 7,
   "metadata": {},
   "outputs": [],
   "source": [
    "popular_model = PopularityRecommender('popularity')"
   ]
  },
  {
   "cell_type": "code",
   "execution_count": 8,
   "metadata": {},
   "outputs": [
    {
     "data": {
      "text/plain": [
       "<models.popularity.PopularityRecommender at 0x7f669cec9f50>"
      ]
     },
     "execution_count": 8,
     "metadata": {},
     "output_type": "execute_result"
    }
   ],
   "source": [
    "popular_model.fit(ratings_train_indexed_df.reset_index(), movies)"
   ]
  },
  {
   "cell_type": "code",
   "execution_count": 9,
   "metadata": {},
   "outputs": [
    {
     "name": "stdout",
     "output_type": "stream",
     "text": [
      "Watched movies:\n",
      "\tStep Brothers (2008)\n",
      "\tDark Knight Rises, The (2012)\n",
      "\tShawshank Redemption, The (1994)\n",
      "\tDeparted, The (2006)\n",
      "\tTown, The (2010)\n",
      "\tGladiator (2000)\n",
      "\tExit Through the Gift Shop (2010)\n",
      "\tZombieland (2009)\n",
      "\tTalladega Nights: The Ballad of Ricky Bobby (2006)\n",
      "\tDjango Unchained (2012)\n",
      "\tInception (2010)\n",
      "\tGood Will Hunting (1997)\n",
      "\tThe Jinx: The Life and Deaths of Robert Durst (2015)\n",
      "\tShutter Island (2010)\n",
      "\tMad Max: Fury Road (2015)\n",
      "\tEx Machina (2015)\n",
      "\tGirl with the Dragon Tattoo, The (2011)\n",
      "\tLouis C.K.: Hilarious (2010)\n",
      "\tTommy Boy (1995)\n",
      "\tInglourious Basterds (2009)\n",
      "\tWhiplash (2014)\n",
      "\tDark Knight, The (2008)\n",
      "\tCollateral (2004)\n",
      "Relevant movies:\n",
      "\tWolf of Wall Street, The (2013)\n",
      "\tWarrior (2011)\n",
      "\tInside Job (2010)\n",
      "\tInterstellar (2014)\n",
      "\tKill Bill: Vol. 1 (2003)\n",
      "\n",
      "Recommendation:\n",
      "\tForrest Gump (1994)\n",
      "\tPulp Fiction (1994)\n",
      "\tSilence of the Lambs, The (1991)\n",
      "\tMatrix, The (1999)\n",
      "\tStar Wars: Episode IV - A New Hope (1977)\n",
      "\tJurassic Park (1993)\n",
      "\tBraveheart (1995)\n",
      "\tToy Story (1995)\n",
      "\tSeven (a.k.a. Se7en) (1995)\n",
      "\tStar Wars: Episode V - The Empire Strikes Back (1980)\n"
     ]
    },
    {
     "data": {
      "text/plain": [
       "{'hits_at_5_count': 0,\n",
       " 'hits_at_10_count': 0,\n",
       " 'interacted_count': 5,\n",
       " 'recall_at_5': 0.0,\n",
       " 'recall_at_10': 0.0,\n",
       " 'precision_at_5': 0.0,\n",
       " 'precision_at_10': 0.0,\n",
       " 'auc_at_10': 1.0}"
      ]
     },
     "execution_count": 9,
     "metadata": {},
     "output_type": "execute_result"
    }
   ],
   "source": [
    "model_evaluator.evaluate_model_for_user(popular_model, 2, top_n = 10, verbose = True)"
   ]
  },
  {
   "cell_type": "code",
   "execution_count": 10,
   "metadata": {},
   "outputs": [
    {
     "name": "stdout",
     "output_type": "stream",
     "text": [
      "609 users processed\n"
     ]
    },
    {
     "data": {
      "text/plain": [
       "{'modelName': 'popularity',\n",
       " 'recall_at_5': 0.03212874405818682,\n",
       " 'recall_at_10': 0.051600710154057615,\n",
       " 'agg_precision_at_5': 0.18393442622950928,\n",
       " 'agg_precision_at_10': 0.09196721311475464,\n",
       " 'agg_auc_at_10': 0.6660551448897788}"
      ]
     },
     "execution_count": 10,
     "metadata": {},
     "output_type": "execute_result"
    }
   ],
   "source": [
    "model_evaluator.evaluate_model(popular_model, top_n = -1)"
   ]
  },
  {
   "cell_type": "markdown",
   "metadata": {},
   "source": [
    "# Content Based Recommender"
   ]
  },
  {
   "cell_type": "code",
   "execution_count": 11,
   "metadata": {},
   "outputs": [],
   "source": [
    "from models.contentBased import ContentBasedRecommender\n",
    "from general_info.general_info import genre_list"
   ]
  },
  {
   "cell_type": "code",
   "execution_count": 12,
   "metadata": {},
   "outputs": [],
   "source": [
    "cb = ContentBasedRecommender('ContentBased', genre_list)"
   ]
  },
  {
   "cell_type": "code",
   "execution_count": 13,
   "metadata": {},
   "outputs": [
    {
     "data": {
      "text/plain": [
       "<models.contentBased.ContentBasedRecommender at 0x7f669ce9e5d0>"
      ]
     },
     "execution_count": 13,
     "metadata": {},
     "output_type": "execute_result"
    }
   ],
   "source": [
    "cb.fit(ratings.set_index('userId'), movies,copy = True)"
   ]
  },
  {
   "cell_type": "code",
   "execution_count": 14,
   "metadata": {},
   "outputs": [
    {
     "data": {
      "text/plain": [
       "Men Who Stare at Goats, The (2009)    3.581081\n",
       "Super (2010)                          3.577063\n",
       "Burn After Reading (2008)             3.564801\n",
       "Down Terrace (2009)                   3.562940\n",
       "Middle Men (2009)                     3.562940\n",
       "Choke (2008)                          3.554013\n",
       "Berlin Calling (2008)                 3.554013\n",
       "Synecdoche, New York (2008)           3.554013\n",
       "Marley & Me (2008)                    3.554013\n",
       "Sunshine Cleaning (2008)              3.554013\n",
       "dtype: float64"
      ]
     },
     "execution_count": 14,
     "metadata": {},
     "output_type": "execute_result"
    }
   ],
   "source": [
    "cb.predict(2, verbose = True, predict_rating = True)"
   ]
  },
  {
   "cell_type": "code",
   "execution_count": 15,
   "metadata": {},
   "outputs": [
    {
     "name": "stdout",
     "output_type": "stream",
     "text": [
      "Watched movies:\n",
      "\tStep Brothers (2008)\n",
      "\tDark Knight Rises, The (2012)\n",
      "\tShawshank Redemption, The (1994)\n",
      "\tDeparted, The (2006)\n",
      "\tTown, The (2010)\n",
      "\tGladiator (2000)\n",
      "\tExit Through the Gift Shop (2010)\n",
      "\tZombieland (2009)\n",
      "\tTalladega Nights: The Ballad of Ricky Bobby (2006)\n",
      "\tDjango Unchained (2012)\n",
      "\tInception (2010)\n",
      "\tGood Will Hunting (1997)\n",
      "\tThe Jinx: The Life and Deaths of Robert Durst (2015)\n",
      "\tShutter Island (2010)\n",
      "\tMad Max: Fury Road (2015)\n",
      "\tEx Machina (2015)\n",
      "\tGirl with the Dragon Tattoo, The (2011)\n",
      "\tLouis C.K.: Hilarious (2010)\n",
      "\tTommy Boy (1995)\n",
      "\tInglourious Basterds (2009)\n",
      "\tWhiplash (2014)\n",
      "\tDark Knight, The (2008)\n",
      "\tCollateral (2004)\n",
      "Relevant movies:\n",
      "\tWolf of Wall Street, The (2013)\n",
      "\tWarrior (2011)\n",
      "\tInside Job (2010)\n",
      "\tInterstellar (2014)\n",
      "\tKill Bill: Vol. 1 (2003)\n",
      "\n",
      "Recommendation:\n",
      "\tMen Who Stare at Goats, The (2009)\n",
      "\tSuper (2010)\n",
      "\tBurn After Reading (2008)\n",
      "\tDown Terrace (2009)\n",
      "\tMiddle Men (2009)\n",
      "\tChoke (2008)\n",
      "\tBerlin Calling (2008)\n",
      "\tSynecdoche, New York (2008)\n",
      "\tMarley & Me (2008)\n",
      "\tSunshine Cleaning (2008)\n"
     ]
    },
    {
     "data": {
      "text/plain": [
       "{'hits_at_5_count': 0,\n",
       " 'hits_at_10_count': 0,\n",
       " 'interacted_count': 5,\n",
       " 'recall_at_5': 0.0,\n",
       " 'recall_at_10': 0.0,\n",
       " 'precision_at_5': 0.0,\n",
       " 'precision_at_10': 0.0,\n",
       " 'auc_at_10': 1.0}"
      ]
     },
     "execution_count": 15,
     "metadata": {},
     "output_type": "execute_result"
    }
   ],
   "source": [
    "model_evaluator.evaluate_model_for_user(cb, 2, top_n = 10, verbose = True)"
   ]
  },
  {
   "cell_type": "code",
   "execution_count": 16,
   "metadata": {},
   "outputs": [
    {
     "name": "stdout",
     "output_type": "stream",
     "text": [
      "609 users processed\n"
     ]
    },
    {
     "data": {
      "text/plain": [
       "{'modelName': 'ContentBased',\n",
       " 'recall_at_5': 0.0,\n",
       " 'recall_at_10': 0.0,\n",
       " 'agg_precision_at_5': 0.0,\n",
       " 'agg_precision_at_10': 0.0,\n",
       " 'agg_auc_at_10': 0.9950819672131147}"
      ]
     },
     "execution_count": 16,
     "metadata": {},
     "output_type": "execute_result"
    }
   ],
   "source": [
    "model_evaluator.evaluate_model(cb, top_n = -1)"
   ]
  },
  {
   "cell_type": "markdown",
   "metadata": {},
   "source": [
    "# User Based Collaborative Filtering"
   ]
  },
  {
   "cell_type": "code",
   "execution_count": 17,
   "metadata": {},
   "outputs": [],
   "source": [
    "from models.userBasedCF import UserBasedCollaborativeFiltering"
   ]
  },
  {
   "cell_type": "code",
   "execution_count": 18,
   "metadata": {},
   "outputs": [],
   "source": [
    "user_based_cf = UserBasedCollaborativeFiltering('User-Based Collaborative Filtering', 10)"
   ]
  },
  {
   "cell_type": "code",
   "execution_count": 19,
   "metadata": {},
   "outputs": [],
   "source": [
    "user_based_cf.fit(ratings_train_indexed_df, movies[['title']])"
   ]
  },
  {
   "cell_type": "code",
   "execution_count": 20,
   "metadata": {},
   "outputs": [
    {
     "data": {
      "text/plain": [
       "Lord of the Rings: The Fellowship of the Ring, The (2001)    1.511974\n",
       "Up (2009)                                                    1.479737\n",
       "Fight Club (1999)                                            1.411536\n",
       "Prestige, The (2006)                                         1.261648\n",
       "Iron Man (2008)                                              1.199666\n",
       "Batman Begins (2005)                                         1.174567\n",
       "Silence of the Lambs, The (1991)                             1.163648\n",
       "The Imitation Game (2014)                                    1.057577\n",
       "Interstellar (2014)                                          1.047449\n",
       "Forrest Gump (1994)                                          0.905956\n",
       "dtype: float64"
      ]
     },
     "execution_count": 20,
     "metadata": {},
     "output_type": "execute_result"
    }
   ],
   "source": [
    "user_based_cf.predict(2, top_n = 10, verbose= True, predict_rating = True)"
   ]
  },
  {
   "cell_type": "code",
   "execution_count": 21,
   "metadata": {},
   "outputs": [
    {
     "name": "stdout",
     "output_type": "stream",
     "text": [
      "Watched movies:\n",
      "\tStep Brothers (2008)\n",
      "\tDark Knight Rises, The (2012)\n",
      "\tShawshank Redemption, The (1994)\n",
      "\tDeparted, The (2006)\n",
      "\tTown, The (2010)\n",
      "\tGladiator (2000)\n",
      "\tExit Through the Gift Shop (2010)\n",
      "\tZombieland (2009)\n",
      "\tTalladega Nights: The Ballad of Ricky Bobby (2006)\n",
      "\tDjango Unchained (2012)\n",
      "\tInception (2010)\n",
      "\tGood Will Hunting (1997)\n",
      "\tThe Jinx: The Life and Deaths of Robert Durst (2015)\n",
      "\tShutter Island (2010)\n",
      "\tMad Max: Fury Road (2015)\n",
      "\tEx Machina (2015)\n",
      "\tGirl with the Dragon Tattoo, The (2011)\n",
      "\tLouis C.K.: Hilarious (2010)\n",
      "\tTommy Boy (1995)\n",
      "\tInglourious Basterds (2009)\n",
      "\tWhiplash (2014)\n",
      "\tDark Knight, The (2008)\n",
      "\tCollateral (2004)\n",
      "Relevant movies:\n",
      "\tWolf of Wall Street, The (2013)\n",
      "\tWarrior (2011)\n",
      "\tInside Job (2010)\n",
      "\tInterstellar (2014)\n",
      "\tKill Bill: Vol. 1 (2003)\n",
      "\n",
      "Recommendation:\n",
      "\tLord of the Rings: The Fellowship of the Ring, The (2001)\n",
      "\tUp (2009)\n",
      "\tFight Club (1999)\n",
      "\tPrestige, The (2006)\n",
      "\tIron Man (2008)\n",
      "\tBatman Begins (2005)\n",
      "\tSilence of the Lambs, The (1991)\n",
      "\tThe Imitation Game (2014)\n",
      "\tInterstellar (2014)\n",
      "\tForrest Gump (1994)\n"
     ]
    },
    {
     "data": {
      "text/plain": [
       "{'hits_at_5_count': 0,\n",
       " 'hits_at_10_count': 1,\n",
       " 'interacted_count': 5,\n",
       " 'recall_at_5': 0.0,\n",
       " 'recall_at_10': 0.2,\n",
       " 'precision_at_5': 0.0,\n",
       " 'precision_at_10': 0.0,\n",
       " 'auc_at_10': 1.0}"
      ]
     },
     "execution_count": 21,
     "metadata": {},
     "output_type": "execute_result"
    }
   ],
   "source": [
    "model_evaluator.evaluate_model_for_user(user_based_cf, 2, top_n = 10, verbose = True)"
   ]
  },
  {
   "cell_type": "code",
   "execution_count": 22,
   "metadata": {},
   "outputs": [
    {
     "name": "stdout",
     "output_type": "stream",
     "text": [
      "609 users processed\n"
     ]
    },
    {
     "data": {
      "text/plain": [
       "{'modelName': 'User-Based Collaborative Filtering',\n",
       " 'recall_at_5': 0.0497107840329878,\n",
       " 'recall_at_10': 0.08470305251703797,\n",
       " 'agg_precision_at_5': 0.28459016393442543,\n",
       " 'agg_precision_at_10': 0.14229508196721272,\n",
       " 'agg_auc_at_10': 0.7677022677235874}"
      ]
     },
     "execution_count": 22,
     "metadata": {},
     "output_type": "execute_result"
    }
   ],
   "source": [
    "model_evaluator.evaluate_model(user_based_cf, top_n = -1)"
   ]
  },
  {
   "cell_type": "markdown",
   "metadata": {},
   "source": [
    "# Item Based Collaborative Filtering"
   ]
  },
  {
   "cell_type": "code",
   "execution_count": 23,
   "metadata": {},
   "outputs": [],
   "source": [
    "from models.itemBasedCF import ItemBasedCollaborativeFiltering"
   ]
  },
  {
   "cell_type": "code",
   "execution_count": 24,
   "metadata": {},
   "outputs": [],
   "source": [
    "item_based_cf = ItemBasedCollaborativeFiltering('Item-Based Collaborative Filtering')"
   ]
  },
  {
   "cell_type": "code",
   "execution_count": 25,
   "metadata": {},
   "outputs": [],
   "source": [
    "item_based_cf.fit(ratings_train_indexed_df.reset_index(), movies[['title']])"
   ]
  },
  {
   "cell_type": "code",
   "execution_count": 26,
   "metadata": {},
   "outputs": [
    {
     "name": "stdout",
     "output_type": "stream",
     "text": [
      "Watched movies:\n",
      "\tStep Brothers (2008)\n",
      "\tDark Knight Rises, The (2012)\n",
      "\tShawshank Redemption, The (1994)\n",
      "\tDeparted, The (2006)\n",
      "\tTown, The (2010)\n",
      "\tGladiator (2000)\n",
      "\tExit Through the Gift Shop (2010)\n",
      "\tZombieland (2009)\n",
      "\tTalladega Nights: The Ballad of Ricky Bobby (2006)\n",
      "\tDjango Unchained (2012)\n",
      "\tInception (2010)\n",
      "\tGood Will Hunting (1997)\n",
      "\tThe Jinx: The Life and Deaths of Robert Durst (2015)\n",
      "\tShutter Island (2010)\n",
      "\tMad Max: Fury Road (2015)\n",
      "\tEx Machina (2015)\n",
      "\tGirl with the Dragon Tattoo, The (2011)\n",
      "\tLouis C.K.: Hilarious (2010)\n",
      "\tTommy Boy (1995)\n",
      "\tInglourious Basterds (2009)\n",
      "\tWhiplash (2014)\n",
      "\tDark Knight, The (2008)\n",
      "\tCollateral (2004)\n",
      "Relevant movies:\n",
      "\tWolf of Wall Street, The (2013)\n",
      "\tWarrior (2011)\n",
      "\tInside Job (2010)\n",
      "\tInterstellar (2014)\n",
      "\tKill Bill: Vol. 1 (2003)\n",
      "\n",
      "Recommendation:\n",
      "\tBatman Begins (2005)\n",
      "\tLord of the Rings: The Return of the King, The (2003)\n",
      "\tKill Bill: Vol. 1 (2003)\n",
      "\tLord of the Rings: The Fellowship of the Ring, The (2001)\n",
      "\tFight Club (1999)\n",
      "\tAvatar (2009)\n",
      "\tZodiac (2007)\n",
      "\tUp (2009)\n",
      "\tCatch Me If You Can (2002)\n",
      "\tPrestige, The (2006)\n"
     ]
    },
    {
     "data": {
      "text/plain": [
       "{'hits_at_5_count': 1,\n",
       " 'hits_at_10_count': 1,\n",
       " 'interacted_count': 5,\n",
       " 'recall_at_5': 0.2,\n",
       " 'recall_at_10': 0.2,\n",
       " 'precision_at_5': 0.2,\n",
       " 'precision_at_10': 0.1,\n",
       " 'auc_at_10': 1.0}"
      ]
     },
     "execution_count": 26,
     "metadata": {},
     "output_type": "execute_result"
    }
   ],
   "source": [
    "model_evaluator.evaluate_model_for_user(item_based_cf, 2, top_n = 10, verbose = True)"
   ]
  },
  {
   "cell_type": "code",
   "execution_count": 27,
   "metadata": {},
   "outputs": [
    {
     "name": "stdout",
     "output_type": "stream",
     "text": [
      "609 users processed\n"
     ]
    },
    {
     "data": {
      "text/plain": [
       "{'modelName': 'Item-Based Collaborative Filtering',\n",
       " 'recall_at_5': 0.034705916041463836,\n",
       " 'recall_at_10': 0.055495103373231776,\n",
       " 'agg_precision_at_5': 0.19868852459016495,\n",
       " 'agg_precision_at_10': 0.09934426229508247,\n",
       " 'agg_auc_at_10': 0.9130236361014801}"
      ]
     },
     "execution_count": 27,
     "metadata": {},
     "output_type": "execute_result"
    }
   ],
   "source": [
    "model_evaluator.evaluate_model(item_based_cf, top_n = -1)"
   ]
  },
  {
   "cell_type": "markdown",
   "metadata": {},
   "source": [
    "# Hybrid Explicit Feedback Recommender"
   ]
  },
  {
   "cell_type": "code",
   "execution_count": 28,
   "metadata": {},
   "outputs": [],
   "source": [
    "from models.hybridExplicitFeedback import HybridRecommender"
   ]
  },
  {
   "cell_type": "markdown",
   "metadata": {},
   "source": [
    "## Hybrid - User Based CF and Content Based"
   ]
  },
  {
   "cell_type": "code",
   "execution_count": 29,
   "metadata": {},
   "outputs": [],
   "source": [
    "hybrid_user_based_cf_and_content_based = HybridRecommender(name = 'hybrid_user_based_cf_and_content_based', \n",
    "                                                           recommenders = [\n",
    "                                                               UserBasedCollaborativeFiltering('User-Based Collaborative Filtering', 10), \n",
    "                                                               ContentBasedRecommender('ContentBased', genre_list)\n",
    "                                                           ], \n",
    "                                                           weights = [0.7, 0.3])"
   ]
  },
  {
   "cell_type": "code",
   "execution_count": 30,
   "metadata": {},
   "outputs": [],
   "source": [
    "hybrid_user_based_cf_and_content_based.fit(ratings = ratings_train_indexed_df, movies = movies)"
   ]
  },
  {
   "cell_type": "code",
   "execution_count": 31,
   "metadata": {},
   "outputs": [
    {
     "name": "stdout",
     "output_type": "stream",
     "text": [
      "609 users processed\n"
     ]
    },
    {
     "data": {
      "text/plain": [
       "{'modelName': 'hybrid_user_based_cf_and_content_based',\n",
       " 'recall_at_5': 0.051772521619609414,\n",
       " 'recall_at_10': 0.08653570814959051,\n",
       " 'agg_precision_at_5': 0.2963934426229502,\n",
       " 'agg_precision_at_10': 0.1481967213114751,\n",
       " 'agg_auc_at_10': 0.9044870800526668}"
      ]
     },
     "execution_count": 31,
     "metadata": {},
     "output_type": "execute_result"
    }
   ],
   "source": [
    "model_evaluator.evaluate_model(hybrid_user_based_cf_and_content_based, top_n = -1)"
   ]
  },
  {
   "cell_type": "code",
   "execution_count": null,
   "metadata": {},
   "outputs": [],
   "source": []
  },
  {
   "cell_type": "markdown",
   "metadata": {},
   "source": [
    "## Hybrid - Item Based and Content Based"
   ]
  },
  {
   "cell_type": "code",
   "execution_count": 32,
   "metadata": {},
   "outputs": [],
   "source": [
    "hybrid_item_based_cf_and_content_based = HybridRecommender(name = 'hybrid_item_based_cf_and_content_based', \n",
    "                                                           recommenders = [\n",
    "                                                               ItemBasedCollaborativeFiltering('Item-Based Collaborative Filtering'), \n",
    "                                                               ContentBasedRecommender('ContentBased', genre_list)\n",
    "                                                           ], \n",
    "                                                           weights = [0.7, 0.3])"
   ]
  },
  {
   "cell_type": "code",
   "execution_count": 33,
   "metadata": {},
   "outputs": [],
   "source": [
    "hybrid_item_based_cf_and_content_based.fit(ratings = ratings_train_indexed_df, movies = movies)"
   ]
  },
  {
   "cell_type": "code",
   "execution_count": 34,
   "metadata": {},
   "outputs": [
    {
     "name": "stdout",
     "output_type": "stream",
     "text": [
      "609 users processed\n"
     ]
    },
    {
     "data": {
      "text/plain": [
       "{'modelName': 'hybrid_item_based_cf_and_content_based',\n",
       " 'recall_at_5': 0.03235782601225588,\n",
       " 'recall_at_10': 0.051944333085161214,\n",
       " 'agg_precision_at_5': 0.1852459016393452,\n",
       " 'agg_precision_at_10': 0.0926229508196726,\n",
       " 'agg_auc_at_10': 0.9138782093601633}"
      ]
     },
     "execution_count": 34,
     "metadata": {},
     "output_type": "execute_result"
    }
   ],
   "source": [
    "model_evaluator.evaluate_model(hybrid_item_based_cf_and_content_based, top_n = -1)"
   ]
  },
  {
   "cell_type": "markdown",
   "metadata": {},
   "source": [
    "## Hybrid - User Based and Item Based CF"
   ]
  },
  {
   "cell_type": "code",
   "execution_count": 35,
   "metadata": {},
   "outputs": [],
   "source": [
    "hybrid_item_based_cf_and_user_based_cf = HybridRecommender(name = 'hybrid_item_based_cf_and_user_based_cf', \n",
    "                                                           recommenders = [\n",
    "                                                               ItemBasedCollaborativeFiltering('Item-Based Collaborative Filtering'), \n",
    "                                                               UserBasedCollaborativeFiltering('User-Based Collaborative Filtering', 10),\n",
    "                                                           ], \n",
    "                                                           weights = [0.5, 0.5])"
   ]
  },
  {
   "cell_type": "code",
   "execution_count": 36,
   "metadata": {},
   "outputs": [],
   "source": [
    "hybrid_item_based_cf_and_user_based_cf.fit(ratings = ratings_train_indexed_df, movies = movies)"
   ]
  },
  {
   "cell_type": "code",
   "execution_count": 37,
   "metadata": {},
   "outputs": [
    {
     "name": "stdout",
     "output_type": "stream",
     "text": [
      "609 users processed\n"
     ]
    },
    {
     "data": {
      "text/plain": [
       "{'modelName': 'hybrid_item_based_cf_and_user_based_cf',\n",
       " 'recall_at_5': 0.051600710154057615,\n",
       " 'recall_at_10': 0.08573392131034878,\n",
       " 'agg_precision_at_5': 0.29540983606557303,\n",
       " 'agg_precision_at_10': 0.14770491803278651,\n",
       " 'agg_auc_at_10': 0.9298287026702459}"
      ]
     },
     "execution_count": 37,
     "metadata": {},
     "output_type": "execute_result"
    }
   ],
   "source": [
    "model_evaluator.evaluate_model(hybrid_item_based_cf_and_user_based_cf, top_n = -1)"
   ]
  },
  {
   "cell_type": "markdown",
   "metadata": {},
   "source": [
    "## Hybrid - Popularity and Content Based"
   ]
  },
  {
   "cell_type": "code",
   "execution_count": 38,
   "metadata": {},
   "outputs": [],
   "source": [
    "hybrid_popularity_and_content_based = HybridRecommender(name = 'hybrid_popularity_and_content_based', \n",
    "                                                           recommenders = [\n",
    "                                                               PopularityRecommender('PopularityRecommender'), \n",
    "                                                               ContentBasedRecommender('ContentBased', genre_list)\n",
    "                                                           ], \n",
    "                                                           weights = [0.2, 0.8])"
   ]
  },
  {
   "cell_type": "code",
   "execution_count": 39,
   "metadata": {},
   "outputs": [],
   "source": [
    "hybrid_item_based_cf_and_content_based.fit(ratings = ratings_train_indexed_df, movies = movies)"
   ]
  },
  {
   "cell_type": "code",
   "execution_count": 40,
   "metadata": {},
   "outputs": [
    {
     "name": "stdout",
     "output_type": "stream",
     "text": [
      "609 users processed\n"
     ]
    },
    {
     "data": {
      "text/plain": [
       "{'modelName': 'hybrid_item_based_cf_and_content_based',\n",
       " 'recall_at_5': 0.03235782601225588,\n",
       " 'recall_at_10': 0.051944333085161214,\n",
       " 'agg_precision_at_5': 0.1852459016393452,\n",
       " 'agg_precision_at_10': 0.0926229508196726,\n",
       " 'agg_auc_at_10': 0.9138782093601633}"
      ]
     },
     "execution_count": 40,
     "metadata": {},
     "output_type": "execute_result"
    }
   ],
   "source": [
    "model_evaluator.evaluate_model(hybrid_item_based_cf_and_content_based, top_n = -1)"
   ]
  },
  {
   "cell_type": "markdown",
   "metadata": {},
   "source": [
    "# Hybrid Implicit Feedback Recommender"
   ]
  },
  {
   "cell_type": "code",
   "execution_count": 41,
   "metadata": {},
   "outputs": [],
   "source": [
    "# movies = pd.read_csv('ml-latest-small/movies.csv').set_index('movieId')\n",
    "# ratings = pd.read_csv('ml-latest-small/ratings.csv')\n",
    "\n",
    "# ratings_train_df, ratings_test_df = train_test_split(ratings,\n",
    "#                                    stratify=ratings['userId'], \n",
    "#                                    test_size=0.20,\n",
    "#                                    random_state=42)\n",
    "\n",
    "# print('# ratings on Train set: %d' % len(ratings_train_df))\n",
    "# print('# ratings on Test set: %d' % len(ratings_test_df))"
   ]
  },
  {
   "cell_type": "code",
   "execution_count": 42,
   "metadata": {},
   "outputs": [],
   "source": [
    "from models.hybridImplicitFeedback import LightFMRecommender"
   ]
  },
  {
   "cell_type": "code",
   "execution_count": 43,
   "metadata": {},
   "outputs": [],
   "source": [
    "lightfm_recommender = LightFMRecommender(name = 'LightFM',\n",
    "                                                no_components=10, \n",
    "        k=5, \n",
    "        n=10,\n",
    "        loss='warp',\n",
    "        random_state = 0)"
   ]
  },
  {
   "cell_type": "code",
   "execution_count": 44,
   "metadata": {},
   "outputs": [
    {
     "data": {
      "text/plain": [
       "<models.hybridImplicitFeedback.LightFMRecommender at 0x7f669cdd3750>"
      ]
     },
     "execution_count": 44,
     "metadata": {},
     "output_type": "execute_result"
    }
   ],
   "source": [
    "lightfm_recommender.fit(ratings_train_df, movies)"
   ]
  },
  {
   "cell_type": "code",
   "execution_count": 45,
   "metadata": {},
   "outputs": [
    {
     "data": {
      "text/plain": [
       "['Harry Potter and the Prisoner of Azkaban (2004)',\n",
       " 'Alice in Wonderland (2010)',\n",
       " 'Hobbit: An Unexpected Journey, The (2012)',\n",
       " 'Harry Potter and the Deathly Hallows: Part 1 (2010)',\n",
       " 'Spider-Man 2 (2004)',\n",
       " 'Avatar (2009)',\n",
       " 'Tron: Legacy (2010)',\n",
       " 'Pirates of the Caribbean: On Stranger Tides (2011)',\n",
       " 'Amazing Spider-Man, The (2012)',\n",
       " 'Hobbit: The Desolation of Smaug, The (2013)']"
      ]
     },
     "execution_count": 45,
     "metadata": {},
     "output_type": "execute_result"
    }
   ],
   "source": [
    "lightfm_recommender.predict(2, verbose = True)"
   ]
  },
  {
   "cell_type": "code",
   "execution_count": 46,
   "metadata": {},
   "outputs": [
    {
     "name": "stdout",
     "output_type": "stream",
     "text": [
      "Watched movies:\n",
      "\tStep Brothers (2008)\n",
      "\tDark Knight Rises, The (2012)\n",
      "\tShawshank Redemption, The (1994)\n",
      "\tDeparted, The (2006)\n",
      "\tTown, The (2010)\n",
      "\tGladiator (2000)\n",
      "\tExit Through the Gift Shop (2010)\n",
      "\tZombieland (2009)\n",
      "\tTalladega Nights: The Ballad of Ricky Bobby (2006)\n",
      "\tDjango Unchained (2012)\n",
      "\tInception (2010)\n",
      "\tGood Will Hunting (1997)\n",
      "\tThe Jinx: The Life and Deaths of Robert Durst (2015)\n",
      "\tShutter Island (2010)\n",
      "\tMad Max: Fury Road (2015)\n",
      "\tEx Machina (2015)\n",
      "\tGirl with the Dragon Tattoo, The (2011)\n",
      "\tLouis C.K.: Hilarious (2010)\n",
      "\tTommy Boy (1995)\n",
      "\tInglourious Basterds (2009)\n",
      "\tWhiplash (2014)\n",
      "\tDark Knight, The (2008)\n",
      "\tCollateral (2004)\n",
      "Relevant movies:\n",
      "\tWolf of Wall Street, The (2013)\n",
      "\tWarrior (2011)\n",
      "\tInside Job (2010)\n",
      "\tInterstellar (2014)\n",
      "\tKill Bill: Vol. 1 (2003)\n",
      "\n",
      "Recommendation:\n",
      "\tHarry Potter and the Prisoner of Azkaban (2004)\n",
      "\tAlice in Wonderland (2010)\n",
      "\tHobbit: An Unexpected Journey, The (2012)\n",
      "\tHarry Potter and the Deathly Hallows: Part 1 (2010)\n",
      "\tSpider-Man 2 (2004)\n",
      "\tAvatar (2009)\n",
      "\tTron: Legacy (2010)\n",
      "\tPirates of the Caribbean: On Stranger Tides (2011)\n",
      "\tAmazing Spider-Man, The (2012)\n",
      "\tHobbit: The Desolation of Smaug, The (2013)\n"
     ]
    },
    {
     "data": {
      "text/plain": [
       "{'hits_at_5_count': 0,\n",
       " 'hits_at_10_count': 0,\n",
       " 'interacted_count': 5,\n",
       " 'recall_at_5': 0.0,\n",
       " 'recall_at_10': 0.0,\n",
       " 'precision_at_5': 0.0,\n",
       " 'precision_at_10': 0.0,\n",
       " 'auc_at_10': 1.0}"
      ]
     },
     "execution_count": 46,
     "metadata": {},
     "output_type": "execute_result"
    }
   ],
   "source": [
    "model_evaluator.evaluate_model_for_user(lightfm_recommender, 2, top_n = 10, verbose = True)"
   ]
  },
  {
   "cell_type": "code",
   "execution_count": 47,
   "metadata": {},
   "outputs": [
    {
     "name": "stdout",
     "output_type": "stream",
     "text": [
      "609 users processed\n"
     ]
    },
    {
     "data": {
      "text/plain": [
       "{'modelName': 'LightFM',\n",
       " 'recall_at_5': 0.011053204283832541,\n",
       " 'recall_at_10': 0.02101826928583701,\n",
       " 'agg_precision_at_5': 0.06327868852459015,\n",
       " 'agg_precision_at_10': 0.031639344262295074,\n",
       " 'agg_auc_at_10': 0.8486776034360625}"
      ]
     },
     "execution_count": 47,
     "metadata": {},
     "output_type": "execute_result"
    }
   ],
   "source": [
    "model_evaluator.evaluate_model(lightfm_recommender, top_n = -1)"
   ]
  }
 ],
 "metadata": {
  "kernelspec": {
   "display_name": "Python 3",
   "language": "python",
   "name": "python3"
  },
  "language_info": {
   "codemirror_mode": {
    "name": "ipython",
    "version": 3
   },
   "file_extension": ".py",
   "mimetype": "text/x-python",
   "name": "python",
   "nbconvert_exporter": "python",
   "pygments_lexer": "ipython3",
   "version": "3.7.6"
  }
 },
 "nbformat": 4,
 "nbformat_minor": 4
}
